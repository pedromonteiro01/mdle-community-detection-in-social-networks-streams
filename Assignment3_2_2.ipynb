{
 "cells": [
  {
   "attachments": {},
   "cell_type": "markdown",
   "metadata": {},
   "source": [
    "# MDLE - Spark Streaming\n",
    "### Exercise 2.2\n",
    "##### Authors: Pedro Duarte 97673, Pedro Monteiro 97484"
   ]
  },
  {
   "attachments": {},
   "cell_type": "markdown",
   "metadata": {},
   "source": [
    "Import Necessary Libraries"
   ]
  },
  {
   "cell_type": "code",
   "execution_count": null,
   "metadata": {},
   "outputs": [],
   "source": [
    "from pyspark import SparkContext\n",
    "from pyspark.streaming import StreamingContext\n",
    "from operator import itemgetter\n",
    "from itertools import chain\n",
    "from pyspark import SparkConf"
   ]
  },
  {
   "attachments": {},
   "cell_type": "markdown",
   "metadata": {},
   "source": [
    "If there's an active SparkContext, stop it before creating a new one"
   ]
  },
  {
   "cell_type": "code",
   "execution_count": null,
   "metadata": {},
   "outputs": [],
   "source": [
    "if 'sc' in locals():\n",
    "    sc.stop()"
   ]
  },
  {
   "attachments": {},
   "cell_type": "markdown",
   "metadata": {},
   "source": [
    "Set up a Spark Streaming application"
   ]
  },
  {
   "cell_type": "code",
   "execution_count": null,
   "metadata": {},
   "outputs": [],
   "source": [
    "conf = SparkConf().setAppName(\"Exercise2-2\").setMaster(\"local[*]\") \n",
    "sc = SparkContext(conf=conf)\n",
    "ssc = StreamingContext(sc, batchDuration=5)\n",
    "ssc.checkpoint(\"dir\")"
   ]
  },
  {
   "attachments": {},
   "cell_type": "markdown",
   "metadata": {},
   "source": [
    "Declare decay factor"
   ]
  },
  {
   "cell_type": "code",
   "execution_count": null,
   "metadata": {},
   "outputs": [],
   "source": [
    "C = 10 ** -6 # decay factor"
   ]
  },
  {
   "attachments": {},
   "cell_type": "markdown",
   "metadata": {},
   "source": [
    "Initialize a stream\n",
    "\n",
    "Parameters:\n",
    "- stream (list): List representing the stream or None\n",
    "\n",
    "Returns:\n",
    "- list: Initialized stream as a list"
   ]
  },
  {
   "cell_type": "code",
   "execution_count": null,
   "metadata": {},
   "outputs": [],
   "source": [
    "def init_stream(stream):\n",
    "    return [[], []] if stream is None else stream"
   ]
  },
  {
   "attachments": {},
   "cell_type": "markdown",
   "metadata": {},
   "source": [
    "Retrieves the distinct elements from a stream\n",
    "\n",
    "Parameters:\n",
    "- stream: List representing the stream\n",
    "\n",
    "Returns:\n",
    "- set: Set containing the distinct elements from the stream"
   ]
  },
  {
   "cell_type": "code",
   "execution_count": null,
   "metadata": {},
   "outputs": [],
   "source": [
    "def get_distinct_elements(stream):\n",
    "    return set(stream)"
   ]
  },
  {
   "attachments": {},
   "cell_type": "markdown",
   "metadata": {},
   "source": [
    "Calculates the weight for a specific element in a stream\n",
    "\n",
    "Parameters:\n",
    "- elem: Element for which the weight is calculated\n",
    "- stream: List representing the stream\n",
    "\n",
    "Returns:\n",
    "- int: Weight of the element in the stream"
   ]
  },
  {
   "cell_type": "code",
   "execution_count": null,
   "metadata": {},
   "outputs": [],
   "source": [
    "def calculate_weight_for_element(elem, stream):\n",
    "    count = 1 if stream[0] == elem else 0 # initialize count to 1 if first element matches 'elem'\n",
    "    for inc_elem_idx in range(len(stream)):\n",
    "        if inc_elem_idx == 0:\n",
    "            count = count * (1 - C) # decaying factor applied to the initial count\n",
    "            continue\n",
    "        bit = 1 if elem == stream[inc_elem_idx] else 0 # set 'bit' to 1 if current element matches 'elem', otherwise 0\n",
    "        count = count * (1 - C) + bit # update count with decaying factor and bit value\n",
    "    return count"
   ]
  },
  {
   "attachments": {},
   "cell_type": "markdown",
   "metadata": {},
   "source": [
    "Updates two lists, 'values' and 'weights', based on a given element and its corresponding count\n",
    "\n",
    "Parameters:\n",
    "- elem: Wlement to be added or updated\n",
    "- count: Count associated with the element\n",
    "- values (list): List of elements\n",
    "- weights (list): List of corresponding weights\n",
    "\n",
    "Returns:\n",
    "- tuple: Tuple containing the updated 'values' and 'weights' lists."
   ]
  },
  {
   "cell_type": "code",
   "execution_count": null,
   "metadata": {},
   "outputs": [],
   "source": [
    "def update_sample_lists(elem, count, values, weights):\n",
    "    if elem not in values: # check if 'elem' is not already present in 'values'\n",
    "        values.append(elem)\n",
    "        weights.append(round(count))\n",
    "    else:\n",
    "        idx = values.index(elem) # find the index of 'elem' in 'values'\n",
    "        weights[idx] += round(count) # # add 'count' to the corresponding weight in 'weights'\n",
    "    return values, weights"
   ]
  },
  {
   "attachments": {},
   "cell_type": "markdown",
   "metadata": {},
   "source": [
    "Processes an incoming stream of elements and updates a sample window based on distinct elements and their weights\n",
    "\n",
    "Parameters:\n",
    "- incoming_stream: List representing the incoming stream of elements\n",
    "- previous_stream: List representing the previous state of the stream\n",
    "\n",
    "Returns:\n",
    "- list: List containing sample values and their corresponding weights"
   ]
  },
  {
   "cell_type": "code",
   "execution_count": null,
   "metadata": {},
   "outputs": [],
   "source": [
    "def decaying_window(incoming_stream, previous_stream):\n",
    "    previous_stream = init_stream(previous_stream) # get 'previous_stream' using 'init_stream' function\n",
    "    distinct_elems = get_distinct_elements(incoming_stream) # get distinct elements from 'incoming_stream'\n",
    "    sample_values = [] # store sample values\n",
    "    sample_weights = [] # store sample weights\n",
    "\n",
    "    for elem in distinct_elems:\n",
    "        count = calculate_weight_for_element(elem, incoming_stream) # calculate element weight\n",
    "        sample_values, sample_weights = update_sample_lists(elem, count, sample_values, sample_weights) # update lists\n",
    "    \n",
    "    return [sample_values, sample_weights]"
   ]
  },
  {
   "attachments": {},
   "cell_type": "markdown",
   "metadata": {},
   "source": [
    "transform_to_pairs function:\n",
    "Transforms a pair of lists into pairs of corresponding elements\n",
    "\n",
    "Parameters:\n",
    "- x: pair of lists\n",
    "\n",
    "Returns:\n",
    "- zip: Sip object containing pairs of corresponding elements\n",
    "\n",
    "get_sorted_counts function:\n",
    "Takes an RDD and returns a sorted RDD based on the counts of the elements\n",
    "\n",
    "Parameters:\n",
    "- rdd: An RDD\n",
    "\n",
    "Returns:\n",
    "- RDD: Sorted RDD based on the counts of the elements"
   ]
  },
  {
   "cell_type": "code",
   "execution_count": null,
   "metadata": {},
   "outputs": [],
   "source": [
    "def transform_to_pairs(x):\n",
    "    return zip(x[0], x[1])\n",
    "\n",
    "def get_sorted_counts(rdd):\n",
    "    counts_dict = rdd.map(lambda x: x[1]) \\\n",
    "            .flatMap(transform_to_pairs)\n",
    "    \n",
    "    ordered_dict = counts_dict.sortBy(itemgetter(1), ascending = False)\n",
    "\n",
    "    return ordered_dict"
   ]
  },
  {
   "attachments": {},
   "cell_type": "markdown",
   "metadata": {},
   "source": [
    "Create a socket connection to a server using the socketTextStream method "
   ]
  },
  {
   "cell_type": "code",
   "execution_count": null,
   "metadata": {},
   "outputs": [],
   "source": [
    "try:\n",
    "    lines = ssc.socketTextStream(\"localhost\", 9998) # connect to localhost server\n",
    "except ConnectionRefusedError: # handle connection refused error\n",
    "    print(\"Connection was refused by the server.\")"
   ]
  },
  {
   "attachments": {},
   "cell_type": "markdown",
   "metadata": {},
   "source": [
    "Using Spark Streaming to process data from a socket stream"
   ]
  },
  {
   "cell_type": "code",
   "execution_count": null,
   "metadata": {},
   "outputs": [],
   "source": [
    "pairs = lines.map(lambda line: line.split(\" \")[1].split(\",\")) # get pairs of values extracted from the lines\n",
    "pre_sampled_data = pairs.map(lambda mention: (0, mention[1])) # prepare data for stateful processing\n",
    "sampled_data = pre_sampled_data.updateStateByKey(decaying_window) # update state by key  and compute sample values and weights based on the incoming data\n",
    "ordered_counts = sampled_data.transform(get_sorted_counts) # get a sorted RDD based on the counts\n",
    "ordered_counts.pprint(5) # print first 5 element\n",
    "\n",
    "ssc.start()\n",
    "ssc.awaitTermination()"
   ]
  }
 ],
 "metadata": {
  "kernelspec": {
   "display_name": "Python 3",
   "language": "python",
   "name": "python3"
  },
  "language_info": {
   "codemirror_mode": {
    "name": "ipython",
    "version": 3
   },
   "file_extension": ".py",
   "mimetype": "text/x-python",
   "name": "python",
   "nbconvert_exporter": "python",
   "pygments_lexer": "ipython3",
   "version": "3.10.6"
  },
  "orig_nbformat": 4
 },
 "nbformat": 4,
 "nbformat_minor": 2
}
