{
 "cells": [
  {
   "attachments": {},
   "cell_type": "markdown",
   "metadata": {},
   "source": [
    "# MDLE - Spark Streaming\n",
    "### Exercise 2.1\n",
    "##### Authors: Pedro Duarte 97673, Pedro Monteiro 97484"
   ]
  },
  {
   "attachments": {},
   "cell_type": "markdown",
   "metadata": {},
   "source": [
    "Import Necessary Libraries"
   ]
  },
  {
   "cell_type": "code",
   "execution_count": null,
   "metadata": {},
   "outputs": [],
   "source": [
    "from collections import deque\n",
    "from pyspark.sql import SparkSession"
   ]
  },
  {
   "attachments": {},
   "cell_type": "markdown",
   "metadata": {},
   "source": [
    "Declare Constants"
   ]
  },
  {
   "cell_type": "code",
   "execution_count": null,
   "metadata": {},
   "outputs": [],
   "source": [
    "N = 24  # Window size\n",
    "K = 20  # Number of bits for counting query"
   ]
  },
  {
   "attachments": {},
   "cell_type": "markdown",
   "metadata": {},
   "source": [
    "Set up the Spark application with a streaming DataFrame that reads data from a socket"
   ]
  },
  {
   "cell_type": "code",
   "execution_count": null,
   "metadata": {},
   "outputs": [],
   "source": [
    "spark = SparkSession.builder.appName(\"StructuredNetworkBitStream\").getOrCreate()\n",
    "stream_data = spark.readStream.format(\"socket\").option(\"host\", \"localhost\").option(\"port\", 9999).load()"
   ]
  },
  {
   "attachments": {},
   "cell_type": "markdown",
   "metadata": {},
   "source": [
    "Define the DGIM class Implementation"
   ]
  },
  {
   "cell_type": "code",
   "execution_count": null,
   "metadata": {},
   "outputs": [],
   "source": [
    "class Implementation:\n",
    "    def __init__(self, window_size):\n",
    "        self.window_size = window_size\n",
    "        self.bit_stream = deque(maxlen=window_size)  # create a deque to store the stream of bits\n",
    "        self.buckets = []  # list to store the buckets\n",
    "        self.real_count = 0  # real value count\n",
    "        self.discarded_buckets = 0  # number of discarded buckets\n",
    "\n",
    "    def update_stream(self, bit):\n",
    "        self.bit_stream.appendleft(bit)  # add the new bit to the beginning of the deque\n",
    "        if bit == 1:\n",
    "            self.real_count += 1  # if the new bit is 1, increment the real count by 1\n",
    "            self.buckets.append(1)  # append a new bucket with a value of 1 to the buckets list\n",
    "        self.merge_buckets()  # regardless of the bit's value, we should check if there are any buckets to merge\n",
    "        self.remove_discarded_buckets()  # regardless of the bit's value, we should check if there are any buckets to discard\n",
    "\n",
    "    def merge_buckets(self):\n",
    "        while len(self.buckets) >= 3:\n",
    "            if self.buckets[-3] == self.buckets[-2]:  # check if the last three buckets have the same value\n",
    "                self.buckets[-2] += self.buckets.pop(-2)  # if have the same value, merge\n",
    "            else:\n",
    "                break\n",
    "\n",
    "    def remove_discarded_buckets(self):\n",
    "        # check if there are buckets and if the size of the bit stream is greater than the window size\n",
    "        if len(self.buckets) > 0 and len(self.bit_stream) == self.window_size:\n",
    "            self.buckets.pop(0)\n",
    "            self.discarded_buckets += 1\n",
    "            \n",
    "    def estimate_count(self): # calculate the estimation\n",
    "        count = sum(self.buckets)\n",
    "        for i in range(self.discarded_buckets):\n",
    "            count += 2 ** i\n",
    "        return count"
   ]
  },
  {
   "attachments": {},
   "cell_type": "markdown",
   "metadata": {},
   "source": [
    "Using the Implementation class to process a stream of bits and apply DGIM algorithm"
   ]
  },
  {
   "cell_type": "code",
   "execution_count": null,
   "metadata": {},
   "outputs": [],
   "source": [
    "dgim_impl = Implementation(N)\n",
    "\n",
    "def calc(df, n):\n",
    "    for row in df.collect():\n",
    "        bit = int(row[\"value\"])\n",
    "        dgim_impl.update_stream(bit)\n",
    "\n",
    "    estimated = dgim_impl.estimate_count()\n",
    "    print(\"Real count is\", dgim_impl.real_count)\n",
    "    print(\"Estimated\", estimated)\n",
    "    print(\"Error\", (dgim_impl.real_count-estimated)/dgim_impl.real_count if dgim_impl.real_count > 0 else 0)\n",
    "    print('-'*30)\n",
    "\n",
    "query = stream_data.writeStream.foreachBatch(calc).start()\n",
    "query.awaitTermination()"
   ]
  }
 ],
 "metadata": {
  "kernelspec": {
   "display_name": "Python 3",
   "language": "python",
   "name": "python3"
  },
  "language_info": {
   "codemirror_mode": {
    "name": "ipython",
    "version": 3
   },
   "file_extension": ".py",
   "mimetype": "text/x-python",
   "name": "python",
   "nbconvert_exporter": "python",
   "pygments_lexer": "ipython3",
   "version": "3.10.6"
  },
  "orig_nbformat": 4
 },
 "nbformat": 4,
 "nbformat_minor": 2
}
